{
 "cells": [
  {
   "cell_type": "code",
   "execution_count": 1,
   "metadata": {},
   "outputs": [
    {
     "name": "stdout",
     "output_type": "stream",
     "text": [
      "Name is not defined\n",
      "Done with Error Handling\n"
     ]
    }
   ],
   "source": [
    "#There are three keywords used for Error handling\n",
    "#try, except and finally\n",
    "#try used to test the block of code for errors\n",
    "#except used to catch that error which is thrown by try\n",
    "#finally used to execute the code, it always execute the code whether there is error in the try block or not\n",
    "try:\n",
    "    print(name)\n",
    "except:\n",
    "    print(\"Name is not defined\")\n",
    "finally:\n",
    "    print(\"Done with Error Handling\")"
   ]
  },
  {
   "cell_type": "code",
   "execution_count": 2,
   "metadata": {},
   "outputs": [],
   "source": [
    "#except block is executed because name variable is not defined and see finally block is executed as well"
   ]
  },
  {
   "cell_type": "code",
   "execution_count": 3,
   "metadata": {},
   "outputs": [
    {
     "name": "stdout",
     "output_type": "stream",
     "text": [
      "Apoorv\n",
      "Done with Error Handling\n"
     ]
    }
   ],
   "source": [
    "name = \"Apoorv\"\n",
    "try:\n",
    "    print(name)\n",
    "except:\n",
    "    print(\"Name is not defined\")\n",
    "finally:\n",
    "    print(\"Done with Error Handling\")"
   ]
  },
  {
   "cell_type": "code",
   "execution_count": null,
   "metadata": {},
   "outputs": [],
   "source": [
    "#there is not any error so, try block executed"
   ]
  }
 ],
 "metadata": {
  "kernelspec": {
   "display_name": "Python 3",
   "language": "python",
   "name": "python3"
  },
  "language_info": {
   "codemirror_mode": {
    "name": "ipython",
    "version": 3
   },
   "file_extension": ".py",
   "mimetype": "text/x-python",
   "name": "python",
   "nbconvert_exporter": "python",
   "pygments_lexer": "ipython3",
   "version": "3.7.3"
  }
 },
 "nbformat": 4,
 "nbformat_minor": 2
}
